{
  "nbformat": 4,
  "nbformat_minor": 0,
  "metadata": {
    "colab": {
      "name": "StellarAlpha Case Study.ipynb",
      "provenance": [],
      "collapsed_sections": [
        "1_irRe--OWCt",
        "EdbVo9NOPwzA",
        "lk-TAoAUSaC7",
        "oRvKtjFBPIVY",
        "khRvYxUoPAtO",
        "zkpePppKO6r7",
        "hOqrJgCJIcWH"
      ]
    },
    "kernelspec": {
      "name": "python3",
      "display_name": "Python 3"
    },
    "language_info": {
      "name": "python"
    }
  },
  "cells": [
    {
      "cell_type": "markdown",
      "metadata": {
        "id": "1_irRe--OWCt"
      },
      "source": [
        "# Infra"
      ]
    },
    {
      "cell_type": "markdown",
      "metadata": {
        "id": "EdbVo9NOPwzA"
      },
      "source": [
        "### Import"
      ]
    },
    {
      "cell_type": "code",
      "metadata": {
        "id": "3sE1M0K_8KlL"
      },
      "source": [
        "import logging as log\n",
        "import numpy as np\n",
        "import pandas as pd\n",
        "from datetime import datetime as dt\n",
        "from datetime import time\n",
        "\n",
        "import concurrent.futures as fut\n",
        "\n",
        "log.basicConfig(level=log.DEBUG, filename='trade_log.log', filemode='w', format='%(name)s - %(levelname)s - %(message)s')\n",
        "# log.basicConfig(level=log.DEBUG)"
      ],
      "execution_count": 1,
      "outputs": []
    },
    {
      "cell_type": "markdown",
      "metadata": {
        "id": "lk-TAoAUSaC7"
      },
      "source": [
        "### Order"
      ]
    },
    {
      "cell_type": "code",
      "metadata": {
        "id": "XjaDSZ9sSbiw"
      },
      "source": [
        "class Order():\n",
        "    def __init__(self, ins, qty, dir, price, time, remark, sl_prct=0, tgt_prct=0, tsl_prct=0, exchange='NSE'):\n",
        "        log.debug('Order constructor-timestamp:'+str(time)+'-dir:'+dir)\n",
        "        self.ins = ins\n",
        "        self.qty = qty\n",
        "        self.dir = dir\n",
        "        self.price = price\n",
        "        self.time = time\n",
        "        self.remark = remark\n",
        "        self.sl_prct = sl_prct\n",
        "        self.tgt_prct = tgt_prct\n",
        "        self.tsl_prct = tsl_prct\n",
        "        self.exchange = exchange"
      ],
      "execution_count": 2,
      "outputs": []
    },
    {
      "cell_type": "markdown",
      "metadata": {
        "id": "oRvKtjFBPIVY"
      },
      "source": [
        "### Trade"
      ]
    },
    {
      "cell_type": "code",
      "metadata": {
        "id": "cZYjwWHVPILn"
      },
      "source": [
        "class Trade():\n",
        "    def __init__(self):\n",
        "        log.debug('Trade constructor')\n",
        "        self.ins = ''\n",
        "        self.qty = 0\n",
        "        self.side = 0\n",
        "        self.exchange = ''\n",
        "        self.entry_price = -1\n",
        "        self.entry_time = -1\n",
        "        self.entry_remark = ''\n",
        "        self.exit_price = -1\n",
        "        self.exit_time = ''\n",
        "        self.exit_remark = ''\n",
        "        self.holding_period = 0\n",
        "        # self.cum_pnl = 0\n",
        "        self.pnl = 0\n",
        "        self.trade_high = -1\n",
        "        self.trade_low = -1\n",
        "        # self.pnl_prct = 0\n",
        "    \n",
        "    def to_dict(self):\n",
        "        return {\n",
        "            'ins': self.ins,\n",
        "            'qty': self.qty,\n",
        "            'side': self.side,\n",
        "            'exchange': self.exchange,\n",
        "            'entry_price': self.entry_price,\n",
        "            'entry_time': self.entry_time,\n",
        "            'entry_remark': self.entry_remark,\n",
        "            'exit_price': self.exit_price,\n",
        "            'exit_time': self.exit_time,\n",
        "            'exit_remark': self.exit_remark,\n",
        "            'holding_period': self.holding_period,\n",
        "            'pnl': self.pnl,\n",
        "            # 'pnl_prct': self.pnl_prct,\n",
        "            # 'cum_pnl': self.cum_pnl,\n",
        "            'trade_high': self.trade_high,\n",
        "            'trade_low': self.trade_low,\n",
        "            'cost': self.cost,\n",
        "        }\n",
        "\n",
        "    def entry_trade(self, order):\n",
        "        log.debug('Trade-entry_trade' + '-dir:' + order.dir)\n",
        "        self.ins = order.ins\n",
        "        self.qty = order.qty\n",
        "        if order.dir == 'BUY':\n",
        "            self.side = 'LONG'\n",
        "        else:\n",
        "            self.side = 'SHORT'\n",
        "        self.exchange = order.exchange\n",
        "        self.entry_price = order.price\n",
        "        self.trade_high = order.price\n",
        "        self.trade_low = order.price\n",
        "        self.entry_time = order.time\n",
        "        self.entry_remark = order.remark\n",
        "        self.compute_cost()\n",
        "\n",
        "    def compute_cost(self):\n",
        "        self.cost = (self.qty * self.entry_price) * 0.0002\n",
        "    \n",
        "    def calc_pnl(self):\n",
        "        if self.side == 'LONG':\n",
        "            self.pnl = (self.exit_price - self.entry_price) * self.qty\n",
        "            log.debug('Trade-calc_pnl-LONG-pnl:'+str(self.pnl))\n",
        "        else:\n",
        "            self.pnl = (self.entry_price - self.exit_price) * self.qty\n",
        "            log.debug('Trade-calc_pnl-SHORT-pnl:'+str(self.pnl))\n",
        "        # self.pnl_prct = self.pnl/self.entry_price*100\n",
        "    \n",
        "    def exit_trade(self, order):\n",
        "        log.debug('Trade-exit_trade' + '-dir:' + order.dir)\n",
        "        if order.price > self.trade_high:\n",
        "            self.trade_high = order.price\n",
        "        elif order.price < self.trade_low:\n",
        "            self.trade_low = order.price\n",
        "        self.exit_price = order.price\n",
        "        self.exit_time = order.time\n",
        "        self.exit_remark = order.remark\n",
        "        self.calc_pnl()\n",
        "        return True"
      ],
      "execution_count": 3,
      "outputs": []
    },
    {
      "cell_type": "markdown",
      "metadata": {
        "id": "khRvYxUoPAtO"
      },
      "source": [
        "### Position"
      ]
    },
    {
      "cell_type": "code",
      "metadata": {
        "id": "AD7mX9OrO_gr"
      },
      "source": [
        "class Position():\n",
        "    def __init__(self, ins):\n",
        "        log.debug('Position constructor ins:' + ins)\n",
        "        self.ins = ins\n",
        "        self.cost = 0\n",
        "        self.last_traded_price = 0\n",
        "        self.last_traded_time = 0\n",
        "        # self.trade_count = 0\n",
        "        self.pnl = 0\n",
        "        self.current_trade = Trade()\n",
        "        global trade_hist\n",
        "        self.sl_prct = 0\n",
        "        self.tgt_prct = 0\n",
        "        self.tsl_prct = 1\n",
        "        self.sl = 0\n",
        "        self.curr_price = 0\n",
        "        self.target_hit = False\n",
        "        self.sl_hit = False\n",
        "        self.prev_closed_trade = None\n",
        "        # self.trade_list = list()\n",
        "\n",
        "\n",
        "    def place_order(self, order):\n",
        "        # self.trade_count += 1\n",
        "        ret_obj = False\n",
        "        log.debug('Position-place_order-ins:'+self.ins)\n",
        "        self.curr_price = order.price\n",
        "        if order.ins == self.ins:\n",
        "            log.debug('Position-place_order-Taking %s Trade in %s of %s at %s', order.dir, order.ins, order.qty, order.price)\n",
        "            if self.current_trade.qty == 0:\n",
        "                log.debug('Position-place_order-ENTRY')\n",
        "                self.current_trade.entry_trade(order)\n",
        "                self.sl_prct = order.sl_prct\n",
        "                if self.current_trade.side == 'LONG':\n",
        "                  # print(type(self.sl_prct), self.sl_prct, order.sl_prct)\n",
        "                  log.debug('Position-place_order-side:LONG')\n",
        "                  self.sl = order.price*(1-self.sl_prct)\n",
        "\n",
        "                elif self.current_trade.side == 'SHORT':\n",
        "                  log.debug('Position-place_order-side:SHORT')\n",
        "                  self.sl = order.price*(1+self.sl_prct)\n",
        "                self.tgt_prct = order.tgt_prct\n",
        "                self.tsl_prct = order.tsl_prct\n",
        "            else:\n",
        "                log.debug('Position-place_order-EXIT')\n",
        "                if self.current_trade.exit_trade(order):\n",
        "                    self.cost += self.current_trade.cost\n",
        "                    self.pnl += self.current_trade.pnl\n",
        "                    # self.trade_list.append(self.current_trade)\n",
        "                    # trade_hist.append(self.current_trade)\n",
        "                    log.debug(self.current_trade.to_dict())\n",
        "                    self.prev_closed_trade = self.current_trade\n",
        "                    # log.debug('Position-place_order-Append trade to trade_hist')\n",
        "                    log.debug('Position-place_order-Trade Closed')\n",
        "                    self.current_trade = Trade()\n",
        "                    # self.sl_prct = 0\n",
        "                    # self.tgt_prct = 0\n",
        "                    # self.tsl_prct = 100\n",
        "                    self.target_hit = False\n",
        "                    self.sl_hit = False\n",
        "            self.last_traded_price = order.price\n",
        "            self.last_traded_time = order.time\n",
        "            return ret_obj\n",
        "        else:\n",
        "            log.critical('Position-place_order-Cant update since order_ins: %s pos_ins: %s'%(order.ins, self.ins))\n",
        "\n",
        "\n",
        "    def mark_position(self, market_data):\n",
        "        new_close = market_data['Close']\n",
        "        log.debug('Position-mark_position-close:'+str(new_close)+'-ins:'+self.ins)\n",
        "        self.current_trade.holding_period += 1\n",
        "        if self.current_trade.side == 'LONG':\n",
        "            if self.curr_price < new_close:\n",
        "                # check for target hit\n",
        "                if new_close > self.current_trade.entry_price*(1+self.tgt_prct):\n",
        "                    log.debug('Position-mark_position-Target Hit-target:'+str(self.current_trade.entry_price*(1+self.tgt_prct)))\n",
        "                    self.target_hit = True\n",
        "                # update tsl\n",
        "                elif (new_close - self.curr_price )/self.curr_price > self.tsl_prct:\n",
        "                    log.debug('Position-mark_position-Update SL')\n",
        "                    self.update_sl(new_close)\n",
        "            else:\n",
        "                if new_close < self.sl:\n",
        "                    self.sl_hit = True\n",
        "                    log.debug('Position-mark_position-SL Hit-SL:'+str(self.sl))\n",
        "        elif self.current_trade.side == 'SHORT':\n",
        "            if self.curr_price < new_close:\n",
        "                # check for sl hit\n",
        "                if new_close > self.sl:\n",
        "                    self.sl_hit = True\n",
        "                    log.debug('Position-mark_position-SL Hit-SL:'+str(self.sl))\n",
        "            else:\n",
        "                # check for target hit\n",
        "                if new_close < self.current_trade.entry_price*(1-self.tgt_prct):\n",
        "                    log.debug('Position-mark_position-Target Hit-target:'+str(self.current_trade.entry_price*(1-self.tgt_prct)))\n",
        "                    self.target_hit = True\n",
        "                # update tsl\n",
        "                elif (self.curr_price - new_close)/self.curr_price > self.tsl_prct:\n",
        "                    log.debug('Position-mark_position-Update SL')\n",
        "                    self.update_sl(new_close)\n",
        "        self.curr_price  = new_close\n",
        "        \n",
        "        new_high = market_data['High']\n",
        "        new_low = market_data['Low']\n",
        "        if new_high > self.current_trade.trade_high:\n",
        "            self.current_trade.trade_high = new_high\n",
        "        elif new_low < self.current_trade .trade_low:\n",
        "            self.current_trade .trade_low = new_low\n",
        "\n",
        "    \n",
        "    def update_sl(self, new_close):\n",
        "        if self.current_trade.side == 'LONG':\n",
        "            self.sl = new_close*(1-self.sl_prct)\n",
        "        if self.current_trade.side == 'SHORT':\n",
        "            self.sl = new_close*(1+self.sl_prct)\n",
        "        log.debug('Position-update_sl-NEW SL:'+str(self.sl))\n"
      ],
      "execution_count": 4,
      "outputs": []
    },
    {
      "cell_type": "markdown",
      "metadata": {
        "id": "zkpePppKO6r7"
      },
      "source": [
        "### Portfolio"
      ]
    },
    {
      "cell_type": "code",
      "metadata": {
        "id": "f9SDARp8O4F3"
      },
      "source": [
        "class Portfolio():\n",
        "    def __init__(self):\n",
        "        log.debug('Portfolio constructor')\n",
        "        self.pos_map = dict()\n",
        "        self.trade_hist = [] \n",
        "\n",
        "    @property\n",
        "    def instrument_list(self):\n",
        "        return list(self.pos_map.keys())\n",
        "\n",
        "    def has_active_position(self, ins):\n",
        "      if not ins in self.instrument_list:\n",
        "        return False\n",
        "      if (self.pos_map[ins].current_trade.qty == 0):\n",
        "        return False\n",
        "      return True\n",
        "\n",
        "    def place_order(self, order):\n",
        "        if not order.ins in self.instrument_list:\n",
        "            self.pos_map[order.ins] = Position(order.ins)\n",
        "        self.pos_map[order.ins].place_order(order)\n",
        "        if not self.has_active_position(order.ins):\n",
        "            self.trade_hist.append(self.pos_map[order.ins].prev_closed_trade)\n",
        "\n",
        "    @property\n",
        "    def trade_list(self):\n",
        "        all_trades = list()\n",
        "        for ins, pos in self.pos_map.items():\n",
        "            all_trades.extend(pos.trade_list)\n",
        "        return all_trades\n",
        "\n",
        "    @property\n",
        "    def cost(self):\n",
        "        cost = 0\n",
        "        for ins, pos in self.pos_map.items():\n",
        "            cost += pos.cost\n",
        "        return cost\n",
        "\n",
        "    @property\n",
        "    def pnl(self):\n",
        "        pnl = 0\n",
        "        for ins, pos in self.pos_map.items():\n",
        "            pnl += pos.pnl\n",
        "        return pnl"
      ],
      "execution_count": 5,
      "outputs": []
    },
    {
      "cell_type": "markdown",
      "metadata": {
        "id": "wQMN3b7BOctv"
      },
      "source": [
        "# Strategy"
      ]
    },
    {
      "cell_type": "code",
      "metadata": {
        "id": "rLcShENraUww"
      },
      "source": [
        "class Strategy():\n",
        "    def __init__(self, trade_cap, EMA1_span, EMA2_span, RSI_span, sl_prct, tgt_prct, tsl_prct, ds):\n",
        "        log.debug('Portfolio constructor')\n",
        "        self.trade_cap = trade_cap\n",
        "        self.EMA1_span = EMA1_span\n",
        "        self.EMA2_span = EMA2_span\n",
        "        self.RSI_span = RSI_span\n",
        "        self.sl_prct = sl_prct\n",
        "        self.tgt_prct = tgt_prct\n",
        "        self.tsl_prct = tsl_prct\n",
        "        self.pf = Portfolio()\n",
        "        self.dataset = ds\n",
        "        self.df = pd.DataFrame()\n",
        "        self.ins_list = []\n",
        "        self.trade_data = pd.DataFrame()\n",
        "        self.data_year = {}\n",
        "        # self.trade_hist = list()\n",
        "        self.prep_data()\n",
        "        # self.run()\n",
        "\n",
        "    # def upload_data(self, ds):\n",
        "    #     self.dataset = ds\n",
        "    #     self.prep_data()\n",
        "\n",
        "\n",
        "    def calc_rsi(self, close, window):\n",
        "        delta = close.diff()\n",
        "        up_days = delta.copy()\n",
        "        up_days[delta<=0]=0.0\n",
        "        down_days = abs(delta.copy())\n",
        "        down_days[delta>0]=0.0\n",
        "        RS_up = up_days.rolling(window).mean()\n",
        "        RS_down = down_days.rolling(window).mean()\n",
        "        rsi= 100-100/(1+RS_up/RS_down)\n",
        "        return rsi\n",
        "\n",
        "    def prep_data(self):\n",
        "        if self.dataset is not None:\n",
        "            for key in self.dataset.keys():\n",
        "                df = self.dataset[key]\n",
        "                # print(self.dataset[key])\n",
        "                self.data_year[df['Ticker'][0]] = (df.index.max().date()-df.index.min().date()).days/365\n",
        "                # calc_ema()\n",
        "                df['EMA1'] = df['Close'].ewm(span=self.EMA1_span, adjust=False).mean()\n",
        "                df['EMA1_prev'] = df['EMA1'].shift(1)\n",
        "                df['EMA2'] = df['Close'].ewm(span=self.EMA2_span, adjust=False).mean()\n",
        "                df['EMA2_prev'] = df['EMA2'].shift(1)\n",
        "                # calc_rsi()\n",
        "                df['RSI'] = self.calc_rsi(df.Close, self.RSI_span)\n",
        "                # df['RSI_prev'] = df['RSI'].shift(1)\n",
        "                df.dropna(inplace=True)\n",
        "                self.dataset[key] = df\n",
        "                del df\n",
        "            self.df = pd.concat(self.dataset.values())\n",
        "            self.df = self.df.sort_index()\n",
        "            self.ins_list = self.df['Ticker'].unique()\n",
        "            self.df = self.df.reset_index().set_index(['DateTime', 'Ticker'])\n",
        "    \n",
        "    def get_data_year(self, ins):\n",
        "        return self.data_year.get(ins)\n",
        "\n",
        "    def gen_signal(self, row):\n",
        "        # crosserver\n",
        "        if (row['EMA1_prev'] < row['EMA2_prev']) and (row['EMA1'] > row['EMA2']) and row['RSI'] > 60:\n",
        "            # print('LONG Trade '+ str(row['EMA1_prev'] < row['EMA2_prev']) + str(row['EMA1'] > row['EMA2']), row['EMA1_prev'] ,row['EMA2_prev'], row['EMA1'], row['EMA2'])\n",
        "            return 'LONG'\n",
        "        elif (row['EMA1_prev'] > row['EMA2_prev']) and (row['EMA1'] < row['EMA2']) and row['RSI'] < 40:\n",
        "            # print('SHORT Trade '+ str(row['EMA1_prev'] > row['EMA2_prev']) + str(row['EMA1'] < row['EMA2']), row['EMA1_prev'] ,row['EMA2_prev'], row['EMA1'], row['EMA2'])\n",
        "            return 'SHORT'\n",
        "        return None\n",
        "    \n",
        "    def run(self):\n",
        "        for idx in self.df.index:\n",
        "            ts = idx[0]\n",
        "            ins = idx[1]\n",
        "            row = self.df.loc[idx]\n",
        "            entry_cond1 = ts.time() < time(14, 45) and ts.time() > time(9, 30)\n",
        "            if self.pf.has_active_position(ins):\n",
        "                self.pf.pos_map[ins].mark_position(row)\n",
        "                qty = self.pf.pos_map[ins].current_trade.qty\n",
        "                # check for reverse signal\n",
        "                side = self.gen_signal(row)\n",
        "                reverse_cond = side is not None\n",
        "                # check for SL condition\n",
        "                sl_cond = self.pf.pos_map[ins].sl_hit\n",
        "                # check for TARGET condition\n",
        "                tgt_cond = self.pf.pos_map[ins].target_hit\n",
        "                time_cond = ts.time() >= time(15, 15)\n",
        "                if sl_cond or tgt_cond or time_cond or reverse_cond:\n",
        "                    log.debug('Strategy-MainLoop-timestamp:'+str(ts)+' Squaring Off Position')\n",
        "                    dir = ''\n",
        "                    if self.pf.pos_map[ins].current_trade.side == 'LONG':\n",
        "                        dir = 'SELL'\n",
        "                    else:\n",
        "                        dir = 'BUY'\n",
        "                    ex_remark = ''\n",
        "                    if sl_cond: ex_remark = \"SL HIT\"\n",
        "                    if tgt_cond: ex_remark = \"TARGET HIT\"\n",
        "                    if time_cond: ex_remark = \"TIME HIT\"\n",
        "                    if reverse_cond: ex_remark = \"REVERSE SIGNAL\"\n",
        "                    ord = Order(ins, qty, dir, row['Close'], ts, ex_remark)\n",
        "                    self.pf.place_order(ord)\n",
        "                    if reverse_cond and entry_cond1:\n",
        "                        log.debug('Strategy-MainLoop-timestamp:'+str(ts)+' Reverse Position')\n",
        "                        qty = int(self.trade_cap//row['Close'])\n",
        "                        if (side == 'LONG'):\n",
        "                            dir = 'BUY'\n",
        "                        else:\n",
        "                            dir = 'SELL'\n",
        "                        ord = Order(ins, qty, dir, row['Close'], ts, \"Ent cond\", self.sl_prct, self.tgt_prct, self.tsl_prct)\n",
        "                        self.pf.place_order(ord)\n",
        "                        # print(pf.pos_map[ins].current_trade.to_dict())\n",
        "            else:\n",
        "                if entry_cond1:\n",
        "                    side = self.gen_signal(row)\n",
        "                    dir = ''\n",
        "                    if side is not None:\n",
        "                        log.debug('Strategy-MainLoop-timestamp:'+str(ts)+' Signal to Enter')\n",
        "                        qty = int(self.trade_cap//row['Close'])\n",
        "                        # print(sl_prct)\n",
        "                        if (side == 'LONG'):\n",
        "                            dir = 'BUY'\n",
        "                        else:\n",
        "                            dir = 'SELL'\n",
        "                        ord = Order(ins, qty, dir, row['Close'], ts, \"Ent cond\", self.sl_prct, self.tgt_prct, self.tsl_prct)\n",
        "                        # print(ts, dir)\n",
        "                        self.pf.place_order(ord)\n",
        "        return self.gen_trade_report()\n",
        "\n",
        "    \n",
        "    def gen_trade_report(self):\n",
        "        trades_df = pd.DataFrame.from_records([t.to_dict() for t in self.pf.trade_hist])\n",
        "        trades_df['change%'] = (trades_df['entry_price']-trades_df['exit_price'])/trades_df['entry_price']*100\n",
        "        trades_df['Turnover'] = trades_df['qty']*trades_df['entry_price']\n",
        "        # trades_df['pnl%'] = trades_df['pnl']/trades_df['Turnover']\n",
        "        trades_df['pnl%'] = trades_df['pnl']/self.trade_cap*100\n",
        "        trades_df['cum_pnl'] = trades_df['pnl'].cumsum()\n",
        "        trades_df['mfe%'] = trades_df.apply(lambda x: (x['trade_high']-x['entry_price'])/x['entry_price']*100 if(x['side']=='LONG') else (x['trade_low'] -x['entry_price'])/x['entry_price']*100, axis=1)\n",
        "        trades_df['mae%'] = trades_df.apply(lambda x: (x['trade_low'] -x['entry_price'])/x['entry_price']*100 if(x['side']=='LONG') else (x['trade_high']-x['entry_price'])/x['entry_price']*100, axis=1)\n",
        "        trades_df['HighValue'] = trades_df['cum_pnl'].cummax()\n",
        "        trades_df['DD'] = trades_df['cum_pnl'] - trades_df['HighValue']\n",
        "        trades_df['MaxDD'] = trades_df['DD'].cummin()\n",
        "        trade_report_name = 'Trade_Report_EMA'+str(self.EMA1_span)+'_EMA'+str(self.EMA2_span)+'_RSI'+str(self.RSI_span)+'_SL'+str(self.sl_prct)+'_TGT'+str(self.tgt_prct)+'_TSL'+str(self.tsl_prct)+'.csv'\n",
        "        trades_df.to_csv(trade_report_name)\n",
        "        self.trade_data = trades_df\n",
        "        self.summary_ins_lvl()\n",
        "        return self.strategy_summary()\n",
        "\n",
        "    def summary_ins_lvl(self):\n",
        "        summ = self.trade_data.groupby('ins').agg(\n",
        "            pnl = pd.NamedAgg(column=\"pnl\", aggfunc=\"sum\"),\n",
        "            trades = pd.NamedAgg(column=\"ins\", aggfunc=\"count\"),\n",
        "            win = pd.NamedAgg(column=\"pnl\", aggfunc=(lambda x: x[x>0].count())),\n",
        "            loss = pd.NamedAgg(column=\"pnl\", aggfunc=(lambda x: x[x<=0].count())),\n",
        "            MaxDD = pd.NamedAgg(column=\"pnl\", aggfunc=(lambda x: (x - x.cumsum().max()).min())),\n",
        "            data_year = pd.NamedAgg(column=\"ins\", aggfunc=(lambda x: self.get_data_year(x.iloc[0]))),\n",
        "        )\n",
        "        summ['PnL/trade'] = summ['pnl']/summ['trades']\n",
        "        summ['RRR'] = (summ['pnl']/summ['data_year'])/abs(summ['MaxDD'])\n",
        "        summ_report_name = 'Summary_EMA'+str(self.EMA1_span)+'_EMA'+str(self.EMA2_span)+'_RSI'+str(self.RSI_span)+'_SL'+str(self.sl_prct)+'_TGT'+str(self.tgt_prct)+'_TSL'+str(self.tsl_prct)+'.csv'\n",
        "        summ.to_csv(summ_report_name)\n",
        "        # return summ\n",
        "    \n",
        "    def strategy_summary(self):\n",
        "        total_trades = self.trade_data.shape[0]\n",
        "        data_year = max(self.data_year.values())\n",
        "        return {\n",
        "            'EMA1'        : self.EMA1_span,\n",
        "            'EMA2'        : self.EMA2_span,\n",
        "            'RSI'         : self.RSI_span,\n",
        "            'SL'          : self.sl_prct,\n",
        "            'TGT'         : self.tgt_prct,\n",
        "            'TSL'         : self.tsl_prct,\n",
        "            'Data Year'   : max(self.data_year.values()),\n",
        "            'Total Trade' : self.trade_data.shape[0],\n",
        "            'Win Trades'  : self.trade_data[self.trade_data['pnl']>0].shape[0],\n",
        "            'Loss Trades' : self.trade_data[self.trade_data['pnl']<=0].shape[0],\n",
        "            'PnL'         : self.trade_data.iloc[-1]['pnl'],\n",
        "            'MaxDD'       : self.trade_data.iloc[-1]['MaxDD'],\n",
        "            'PnL/Trade'   : self.trade_data.iloc[-1]['pnl']/self.trade_data.shape[0],\n",
        "            'RRR'         : (self.trade_data.iloc[-1]['pnl']/max(self.data_year.values()))/abs(self.trade_data.iloc[-1]['MaxDD'])\n",
        "        }\n",
        "\n",
        "\n"
      ],
      "execution_count": 6,
      "outputs": []
    },
    {
      "cell_type": "markdown",
      "metadata": {
        "id": "IWn5Hnec9UCk"
      },
      "source": [
        "# Backtest"
      ]
    },
    {
      "cell_type": "markdown",
      "metadata": {
        "id": "hOqrJgCJIcWH"
      },
      "source": [
        "### Data prep"
      ]
    },
    {
      "cell_type": "code",
      "metadata": {
        "id": "ikZIAp9I-nAc",
        "colab": {
          "base_uri": "https://localhost:8080/"
        },
        "outputId": "468ecbb9-6f87-4ca8-fe87-d9ceff66543b"
      },
      "source": [
        "dataset = pd.read_excel('dataset.xlsx', sheet_name=None)\n",
        "# dataset = pd.read_excel('dataset.xlsx', sheet_name=None)\n",
        "cols = ['Ticker', 'Date/Time', 'Open', 'High', 'Low', 'Close','Volume']\n",
        "\n",
        "for key in dataset.keys():\n",
        "    df = dataset[key]\n",
        "    df = df[cols]\n",
        "    df.rename(columns={'Date/Time':'DateTime'}, inplace = True)\n",
        "    df.set_index(df['DateTime'], inplace = True)\n",
        "    if 'DateTime' in df.columns: df = df.drop(columns=['DateTime'])\n",
        "    df.sort_index(inplace = True)\n",
        "    dataset[key] = df\n",
        "    del df\n",
        "\n",
        "index_dataset = {}\n",
        "index_dataset['BANKNIFTY-I'] = dataset.pop('BANKNIFTY-I')\n",
        "index_dataset['NIFTY-I'] = dataset.pop('NIFTY-I')"
      ],
      "execution_count": 7,
      "outputs": [
        {
          "output_type": "stream",
          "name": "stderr",
          "text": [
            "/usr/local/lib/python3.7/dist-packages/pandas/core/frame.py:4308: SettingWithCopyWarning: \n",
            "A value is trying to be set on a copy of a slice from a DataFrame\n",
            "\n",
            "See the caveats in the documentation: https://pandas.pydata.org/pandas-docs/stable/user_guide/indexing.html#returning-a-view-versus-a-copy\n",
            "  errors=errors,\n"
          ]
        }
      ]
    },
    {
      "cell_type": "markdown",
      "metadata": {
        "id": "B_vQvHB3Otcd"
      },
      "source": [
        "### Logic"
      ]
    },
    {
      "cell_type": "code",
      "metadata": {
        "id": "yn90B-K47V6a"
      },
      "source": [
        "trade_cap = 500000\n",
        "# TSL\n",
        "step = 10\n",
        "ema1_span = [i for i in range(10, 20+step, step)]\n",
        "ema2_span = [i for i in range(50, 80+step, step)]\n",
        "step = 7\n",
        "rsi_span = [i for i in range(7, 14+step, step)]\n",
        "step = 25\n",
        "sl_prct = [i/100 for i in range(100, 200+step, step)]\n",
        "tgt_prct = [i/100 for i in range(100, 300+step, step)]\n",
        "tsl_prct = [i/100 for i in range(100, 200+step, step)]\n",
        "\n",
        "strat_summ = []\n",
        "threads = []\n",
        "strats = []\n",
        "with fut.ThreadPoolExecutor(max_workers=4) as executor:\n",
        "    for ema1 in ema1_span:\n",
        "    for ema2 in ema2_span:\n",
        "        for rsi in rsi_span:\n",
        "            for sl in sl_prct:\n",
        "                for tgt in tgt_prct:\n",
        "                    for tsl in tsl_prct:\n",
        "                        strat = Strategy(trade_cap, 20, ema2, rsi, sl/100, tgt/100, tsl/100, copy.deepcopy(dataset))\n",
        "                        strats.append(executor.submit(strat.run))\n",
        "                        # strat.upload_data(dataset)\n",
        "                        # strat.run()\n",
        "                        # strat.gen_trade_report()\n",
        "                        # strat.summary_ins_lvl()\n",
        "                        # strat_summ.append(strat.strategy_summary())\n"
      ],
      "execution_count": null,
      "outputs": []
    },
    {
      "cell_type": "code",
      "metadata": {
        "id": "vw9gt3gz7Ccl"
      },
      "source": [
        "pd.DataFrame.from_records([i.result() for i in strats]).to_csv('final_summary.csv')"
      ],
      "execution_count": null,
      "outputs": []
    },
    {
      "cell_type": "markdown",
      "metadata": {
        "id": "XzPEn7zTlOZh"
      },
      "source": [
        "# Report"
      ]
    },
    {
      "cell_type": "code",
      "metadata": {
        "id": "qzIV3j5uNANx"
      },
      "source": [
        "df1 = df.drop(columns=['DateTime'])\n",
        "df1.join(trades_df.set_index('entry_time'), how='left').drop_duplicates().to_csv('backtest_1.csv')"
      ],
      "execution_count": null,
      "outputs": []
    }
  ]
}